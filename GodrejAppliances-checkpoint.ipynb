{
 "cells": [
  {
   "cell_type": "code",
   "execution_count": 1,
   "metadata": {},
   "outputs": [],
   "source": [
    "import lxml\n",
    "import re\n",
    "import selenium\n",
    "from selenium import webdriver\n",
    "import pandas as pd\n",
    "from time import sleep\n",
    "import requests\n",
    "from bs4 import BeautifulSoup as bs\n",
    "from selenium.webdriver.common.action_chains import ActionChains\n",
    "from selenium.webdriver.common.keys import Keys\n",
    "from selenium.webdriver.support.ui import Select"
   ]
  },
  {
   "cell_type": "code",
   "execution_count": 15,
   "metadata": {},
   "outputs": [],
   "source": [
    "url='https://locator.latlong.in/client?url=http://www.godrejappliances.com/Godrej/dealerlocator.aspx#'"
   ]
  },
  {
   "cell_type": "code",
   "execution_count": 16,
   "metadata": {},
   "outputs": [],
   "source": [
    "districts=['Ahmednagar','Akola','Amravati','Aurangabad','Beed','Bhandara','Buldhana','Chandrapur','Dhule','Gadchiroli','Gondia','Hingoli','Jalgaon','Jalna','Kolhapur','Latur','Mumbai','Mumbai Suburban','Nagpur','Nanded','Nandurbar','Nashik','Osmanabad','Palghar','Parbhani','Pune','Raigad','Ratnagiri','Sangli','Satara','Sindhudurg','Solapur','Thane','Wardha','Washim','Yavatmal']"
   ]
  },
  {
   "cell_type": "code",
   "execution_count": 17,
   "metadata": {},
   "outputs": [
    {
     "data": {
      "text/plain": [
       "36"
      ]
     },
     "execution_count": 17,
     "metadata": {},
     "output_type": "execute_result"
    }
   ],
   "source": [
    "len(districts)"
   ]
  },
  {
   "cell_type": "code",
   "execution_count": 18,
   "metadata": {},
   "outputs": [],
   "source": [
    "driver = selenium.webdriver.Chrome(executable_path='C:/Users/abdenather/Desktop/chromedriver_win32/chromedriver.exe')"
   ]
  },
  {
   "cell_type": "code",
   "execution_count": 19,
   "metadata": {},
   "outputs": [],
   "source": [
    "driver.get(url)"
   ]
  },
  {
   "cell_type": "code",
   "execution_count": null,
   "metadata": {},
   "outputs": [
    {
     "name": "stdout",
     "output_type": "stream",
     "text": [
      "77.009561462565 20.711366629055 \n",
      "\n",
      " Mittal Enterprise, Ratanlal Plot \n",
      "\n",
      " +919921280008 \n",
      "\n",
      " Ratanlal Plot Square,\n",
      "Ranpise Nagar, Akola - 444001\n",
      "Akola\n",
      "76.99870526790619 20.70861253257273 \n",
      "\n",
      " Mittal Electronics, Akola \n",
      "\n",
      " +917242434468 \n",
      "\n",
      " Kala Chabutra, Gandhi Road, Akola - 444001\n",
      "Akola\n",
      "75.360493538623 19.882045336059 \n",
      "\n",
      " Arun Electronics, Cidco \n",
      "\n",
      " +912402488380 \n",
      "\n",
      " Cico Main Road\n",
      "1.6 km from Raje Chatrapati Chowk\n",
      "CIDCO N-6, Aurangabad\n",
      "76.03927373886108 18.200224805800012 \n",
      "\n",
      " Sumit Agencies, Osmanabad \n",
      "\n",
      " +919175990011 \n",
      "\n",
      " Barshi Road, Osmanabad - 413501\n",
      "\n",
      "Osmanabad\n",
      "75.8979481458664 19.847698591023565 \n",
      "\n",
      " Shri Ganpati Elec, Mama Chowk \n",
      "\n",
      " +919623250500 \n",
      "\n",
      " INSIDE Shital Plaza, Bus Stand Road, MG Road, Jalna - 431203\n",
      "Jalna\n",
      "75.360493538623 19.882045336059 \n",
      "\n",
      " Arun Electronics, Cidco \n",
      "\n",
      " +912402488380 \n",
      "\n",
      " Cico Main Road\n",
      "1.6 km from Raje Chatrapati Chowk\n",
      "CIDCO N-6, Aurangabad\n",
      "79.1215074062347 21.1384871734132 \n",
      "\n",
      " Baghwati Electronics, Nandanvan \n",
      "\n",
      " +919422109540 \n",
      "\n",
      " KDK College Road\n",
      "NEAR Jagnade Square\n",
      "200 m from Jagnade Square\n",
      "Rajendra Nagar, Nandanvan, Nagpur\n"
     ]
    }
   ],
   "source": [
    "Contact=[]\n",
    "Name=[]\n",
    "Address=[]\n",
    "District=[]\n",
    "Latitude=[]\n",
    "Longitude=[]\n",
    "\n",
    "i=0\n",
    "while i<len(districts):\n",
    "    driver.find_element_by_id('search_input').clear()\n",
    "    driver.find_element_by_id('search_input').send_keys(districts[i])\n",
    "    driver.find_element_by_id('search_input').send_keys(u'\\ue007')\n",
    "    sleep(3)\n",
    "    j=0\n",
    "    while j>=0:\n",
    "        try:\n",
    "            id=driver.find_element_by_xpath('//*[@class=\"list list{0} listt_364\"]'.format(j)).get_attribute('id')\n",
    "            onclickValue = driver.find_element_by_xpath(\"//*[@id='{0}']/div/div[3]/div\".format(id)).get_attribute(\"onclick\")\n",
    "            a=re.search(\"POINT\", onclickValue).start()\n",
    "            onclickValue=onclickValue[a+7:]\n",
    "            a=re.search(\",\", onclickValue).start()\n",
    "            onclickValue=onclickValue[:a-2]\n",
    "            sleep(2)\n",
    "            Cords=onclickValue.split()\n",
    "            lat=float(Cords[0])\n",
    "            lng=float(Cords[1])\n",
    "            name=driver.find_element_by_xpath('//*[@id=\"{0}\"]/div/h2'.format(id)).text\n",
    "            contact=driver.find_element_by_xpath('//*[@id=\"{0}\"]/div/a'.format(id)).text\n",
    "            address=driver.find_element_by_xpath('//*[@id=\"store_address{0}\"]'.format(id)).text\n",
    "            print(onclickValue,\"\\n\\n\",name,\"\\n\\n\",contact,\"\\n\\n\",address)\n",
    "            Name.append(name)\n",
    "            Latitude.append(lat)\n",
    "            Longitude.append(lng)\n",
    "            District.append(districts[i])\n",
    "            Address.append(address)\n",
    "            Contact.append(contact)\n",
    "            sleep(3)\n",
    "            #break\n",
    "            j+=1\n",
    "        except:\n",
    "            j=-5\n",
    "    \n",
    "    #elem=driver.find_element_by_xpath('//*[@class=\"list list0 listt_364\"]').get_attribute('id')\n",
    "    #onclickValue = driver.find_element_by_xpath(\"//*[@id='{0}']/div/div[3]/div\".format(elem)).get_attribute(\"onclick\")\n",
    "    #print(onclickValue)\n",
    "    #break\n",
    "    i+=1"
   ]
  },
  {
   "cell_type": "code",
   "execution_count": 76,
   "metadata": {},
   "outputs": [
    {
     "data": {
      "text/plain": [
       "['Ahmednagar',\n",
       " 'Akola',\n",
       " 'Amravati',\n",
       " 'Aurangabad',\n",
       " 'Beed',\n",
       " 'Bhandara',\n",
       " 'Buldhana',\n",
       " 'Chandrapur',\n",
       " 'Dhule',\n",
       " 'Gadchiroli',\n",
       " 'Gadchiroli',\n",
       " 'Gondia',\n",
       " 'Jalna',\n",
       " 'Mumbai',\n",
       " 'Mumbai',\n",
       " 'Mumbai',\n",
       " 'Mumbai',\n",
       " 'Mumbai',\n",
       " 'Mumbai',\n",
       " 'Mumbai',\n",
       " 'Mumbai',\n",
       " 'Mumbai',\n",
       " 'Mumbai',\n",
       " 'Mumbai Suburban',\n",
       " 'Mumbai Suburban',\n",
       " 'Nagpur',\n",
       " 'Nanded',\n",
       " 'Nandurbar',\n",
       " 'Nashik',\n",
       " 'Osmanabad',\n",
       " 'Osmanabad',\n",
       " 'Osmanabad',\n",
       " 'Osmanabad',\n",
       " 'Osmanabad',\n",
       " 'Osmanabad',\n",
       " 'Osmanabad',\n",
       " 'Osmanabad',\n",
       " 'Osmanabad',\n",
       " 'Osmanabad',\n",
       " 'Osmanabad',\n",
       " 'Raigad',\n",
       " 'Raigad',\n",
       " 'Ratnagiri',\n",
       " 'Ratnagiri',\n",
       " 'Satara',\n",
       " 'Sindhudurg',\n",
       " 'Sindhudurg',\n",
       " 'Solapur',\n",
       " 'Solapur',\n",
       " 'Thane',\n",
       " 'Thane',\n",
       " 'Wardha',\n",
       " 'Wardha',\n",
       " 'Washim',\n",
       " 'Washim']"
      ]
     },
     "execution_count": 76,
     "metadata": {},
     "output_type": "execute_result"
    }
   ],
   "source": [
    "District"
   ]
  },
  {
   "cell_type": "code",
   "execution_count": null,
   "metadata": {},
   "outputs": [],
   "source": []
  }
 ],
 "metadata": {
  "kernelspec": {
   "display_name": "Python 3",
   "language": "python",
   "name": "python3"
  },
  "language_info": {
   "codemirror_mode": {
    "name": "ipython",
    "version": 3
   },
   "file_extension": ".py",
   "mimetype": "text/x-python",
   "name": "python",
   "nbconvert_exporter": "python",
   "pygments_lexer": "ipython3",
   "version": "3.7.3"
  }
 },
 "nbformat": 4,
 "nbformat_minor": 2
}
